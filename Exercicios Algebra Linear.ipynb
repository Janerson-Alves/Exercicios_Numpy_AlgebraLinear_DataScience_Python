{
  "nbformat": 4,
  "nbformat_minor": 0,
  "metadata": {
    "colab": {
      "provenance": []
    },
    "kernelspec": {
      "name": "python3",
      "display_name": "Python 3"
    },
    "language_info": {
      "name": "python"
    }
  },
  "cells": [
    {
      "cell_type": "code",
      "execution_count": 1,
      "metadata": {
        "id": "rL19p629bTrM"
      },
      "outputs": [],
      "source": [
        "'''\n",
        "Algebra Linear com NumPy\n",
        "O que iremos desenvolver?\n",
        "\n",
        "- Definindo  matrizes\n",
        "- Operações matemáticas\n",
        "- Matriz transporta\n",
        "- Determinante\n",
        "- Matriz inversa\n",
        "- Sistema Lineares\n",
        "- Traço e ponto de uma matriz\n",
        "-  Autovalor / Autovetor\n",
        "'''\n",
        "import numpy as np"
      ]
    },
    {
      "cell_type": "code",
      "source": [
        "'''\n",
        "Definindo Matrizes - Exercício 1\n",
        "Defina as matrizes abaixo utilizando o NumPy. Use o método np.array().\n",
        "\n",
        "    | 1  2  3 |        | 1  -2  0 |       | 1  2  3 |      | 1 |\n",
        "A = | 2  1 -1 |    B = | 3   0  1 |   C = | 4  5  6 |  D = | 4 |\n",
        "                       | 4   5  6 |       | 7  8  9 |      |-3 |\n",
        "Lembrete: podemos observar que as matrizes B e C são matrizes quadradas, pois o número de linhas é igual ao número de colunas.\n",
        "'''"
      ],
      "metadata": {
        "id": "oi3CWUItbseT",
        "colab": {
          "base_uri": "https://localhost:8080/",
          "height": 70
        },
        "outputId": "f53b5a9c-e04f-4727-ffe7-5714b69f271c"
      },
      "execution_count": 2,
      "outputs": [
        {
          "output_type": "execute_result",
          "data": {
            "text/plain": [
              "'\\nDefinindo Matrizes - Exercício 1\\nDefina as matrizes abaixo utilizando o NumPy. Use o método np.array().\\n\\n    | 1  2  3 |        | 1  -2  0 |       | 1  2  3 |      | 1 |\\nA = | 2  1 -1 |    B = | 3   0  1 |   C = | 4  5  6 |  D = | 4 |\\n                       | 4   5  6 |       | 7  8  9 |      |-3 |\\nLembrete: podemos observar que as matrizes B e C são matrizes quadradas, pois o número de linhas é igual ao número de colunas.\\n'"
            ],
            "application/vnd.google.colaboratory.intrinsic+json": {
              "type": "string"
            }
          },
          "metadata": {},
          "execution_count": 2
        }
      ]
    },
    {
      "cell_type": "code",
      "source": [
        "A = np.array([[1,2,3],[2,1,-1]])\n",
        "B = np.array([[1,-2,0],[3,0,1],[4,5,6]])\n",
        "C = np.array(range(1,10)).reshape(3,3)\n",
        "D = np.array([[1],[4],[-3]])\n",
        "print(A)\n",
        "print()\n",
        "print(B)\n",
        "print()\n",
        "print(C)\n",
        "print()\n",
        "print(D)\n",
        "print()\n"
      ],
      "metadata": {
        "colab": {
          "base_uri": "https://localhost:8080/"
        },
        "id": "gzZkqeZDd8Ps",
        "outputId": "43d1e900-1742-4ba7-e415-aa8a0c1e3750"
      },
      "execution_count": 3,
      "outputs": [
        {
          "output_type": "stream",
          "name": "stdout",
          "text": [
            "[[ 1  2  3]\n",
            " [ 2  1 -1]]\n",
            "\n",
            "[[ 1 -2  0]\n",
            " [ 3  0  1]\n",
            " [ 4  5  6]]\n",
            "\n",
            "[[1 2 3]\n",
            " [4 5 6]\n",
            " [7 8 9]]\n",
            "\n",
            "[[ 1]\n",
            " [ 4]\n",
            " [-3]]\n",
            "\n"
          ]
        }
      ]
    },
    {
      "cell_type": "code",
      "source": [
        "'''\n",
        "Definindo Matrizes - Exercício 2\n",
        "Defina as matrizes abaixo utilizando o NumPy. Use o método np.array().\n",
        "    | 1 |\n",
        "    | 2 |\n",
        "E = | 3 |     F = [1 0 3 -10]\n",
        "    | 4 |     G = [1 2 3 4 5]\n",
        "    | 5 |\n",
        "    | 6 |\n",
        "'''"
      ],
      "metadata": {
        "id": "icWb_oBBexA5",
        "colab": {
          "base_uri": "https://localhost:8080/",
          "height": 53
        },
        "outputId": "b3499537-0592-44b6-fb2e-7452bbb42abf"
      },
      "execution_count": 4,
      "outputs": [
        {
          "output_type": "execute_result",
          "data": {
            "text/plain": [
              "'\\nDefinindo Matrizes - Exercício 2\\nDefina as matrizes abaixo utilizando o NumPy. Use o método np.array().\\n    | 1 |\\n    | 2 |\\nE = | 3 |     F = [1 0 3 -10]\\n    | 4 |     G = [1 2 3 4 5]\\n    | 5 |\\n    | 6 |\\n'"
            ],
            "application/vnd.google.colaboratory.intrinsic+json": {
              "type": "string"
            }
          },
          "metadata": {},
          "execution_count": 4
        }
      ]
    },
    {
      "cell_type": "code",
      "source": [
        "E = np.array(range(1,7)).reshape(6,1)\n",
        "F = np.array([1, 0, 3, -10])\n",
        "G = np.array(range(1,6))\n",
        "\n",
        "print(E)\n",
        "print()\n",
        "print(F)\n",
        "print()\n",
        "print(G)\n"
      ],
      "metadata": {
        "colab": {
          "base_uri": "https://localhost:8080/"
        },
        "id": "YJ7eUjKuge7P",
        "outputId": "00eae56b-9084-49ca-af53-77e4783aa27d"
      },
      "execution_count": 5,
      "outputs": [
        {
          "output_type": "stream",
          "name": "stdout",
          "text": [
            "[[1]\n",
            " [2]\n",
            " [3]\n",
            " [4]\n",
            " [5]\n",
            " [6]]\n",
            "\n",
            "[  1   0   3 -10]\n",
            "\n",
            "[1 2 3 4 5]\n"
          ]
        }
      ]
    },
    {
      "cell_type": "code",
      "source": [
        "'''\n",
        "Definindo Matrizes - Exercício 3\n",
        "Defina as matrizes abaixo utilizando o NumPy. Use o método np.array().\n",
        "\n",
        "A = 2 colunas e 2 linhas com 0\n",
        "B = 5 colunas e 3 linhas com 0\n",
        "C = 5 colunas e 5 linhas com 0\n",
        "I1 = 2 colunas e 2 linhas com 1 na diagonal principal\n",
        "I2 = 3 colunas e 3 linhas com 1 na diagonal principal\n",
        "I3 = 6 colunas e 6 linhas com 1 na diagonal principal\n",
        "'''"
      ],
      "metadata": {
        "id": "yHChlMlGgyqH",
        "colab": {
          "base_uri": "https://localhost:8080/",
          "height": 70
        },
        "outputId": "a2d53425-3276-4966-a502-f2e4bcb8fd3f"
      },
      "execution_count": 6,
      "outputs": [
        {
          "output_type": "execute_result",
          "data": {
            "text/plain": [
              "'\\nDefinindo Matrizes - Exercício 3\\nDefina as matrizes abaixo utilizando o NumPy. Use o método np.array().\\n\\nA = 2 colunas e 2 linhas com 0\\nB = 5 colunas e 3 linhas com 0\\nC = 5 colunas e 5 linhas com 0\\nI1 = 2 colunas e 2 linhas com 1 na diagonal principal\\nI2 = 3 colunas e 3 linhas com 1 na diagonal principal\\nI3 = 6 colunas e 6 linhas com 1 na diagonal principal\\n'"
            ],
            "application/vnd.google.colaboratory.intrinsic+json": {
              "type": "string"
            }
          },
          "metadata": {},
          "execution_count": 6
        }
      ]
    },
    {
      "cell_type": "code",
      "source": [
        "A = np.zeros(shape=(2, 2))\n",
        "B = np.zeros(shape=(3, 5))\n",
        "C = np.zeros(shape=(5, 5))\n",
        "I2 = np.eye(2, 2)\n",
        "I3 = np.eye(3, 3)\n",
        "I6 = np.eye(6, 6)\n",
        "\n",
        "print(A)\n",
        "print()\n",
        "print(B)\n",
        "print()\n",
        "print(C)\n",
        "print()\n",
        "print(I2)\n",
        "print()\n",
        "print(I3)\n",
        "print()\n",
        "print(I6)"
      ],
      "metadata": {
        "colab": {
          "base_uri": "https://localhost:8080/"
        },
        "id": "7_Md2p4EKr-4",
        "outputId": "b6c99cdc-2f57-46c0-e2b1-a649f734a456"
      },
      "execution_count": 7,
      "outputs": [
        {
          "output_type": "stream",
          "name": "stdout",
          "text": [
            "[[0. 0.]\n",
            " [0. 0.]]\n",
            "\n",
            "[[0. 0. 0. 0. 0.]\n",
            " [0. 0. 0. 0. 0.]\n",
            " [0. 0. 0. 0. 0.]]\n",
            "\n",
            "[[0. 0. 0. 0. 0.]\n",
            " [0. 0. 0. 0. 0.]\n",
            " [0. 0. 0. 0. 0.]\n",
            " [0. 0. 0. 0. 0.]\n",
            " [0. 0. 0. 0. 0.]]\n",
            "\n",
            "[[1. 0.]\n",
            " [0. 1.]]\n",
            "\n",
            "[[1. 0. 0.]\n",
            " [0. 1. 0.]\n",
            " [0. 0. 1.]]\n",
            "\n",
            "[[1. 0. 0. 0. 0. 0.]\n",
            " [0. 1. 0. 0. 0. 0.]\n",
            " [0. 0. 1. 0. 0. 0.]\n",
            " [0. 0. 0. 1. 0. 0.]\n",
            " [0. 0. 0. 0. 1. 0.]\n",
            " [0. 0. 0. 0. 0. 1.]]\n"
          ]
        }
      ]
    },
    {
      "cell_type": "code",
      "source": [
        "'''\n",
        "Definindo Matrizes - Exercício 4\n",
        "Defina a matrizes triangulares abaixo utilizando o NumPy. Use os métodos np.triu() e np.tril().\n",
        "\n",
        "    | 1  2  3 |           | 1  0  0 |           | 100  101  102  103  104 |\n",
        "A = | 0  5  6 |       B = | 4  5  0 |       C = | 0    106  107  108  109 |\n",
        "    | 0  0  9 |           | 7  8  9 |           | 0     0   112  113  114 |\n",
        "                                                | 0     0   0    118  119 |\n",
        "                                                | 0     0   0     0   124 |\n",
        "\n",
        "Para informações acesse a documentação:\n",
        "\n",
        "https://numpy.org/doc/stable/reference/generated/numpy.tril.html\n",
        "\n",
        "https://numpy.org/doc/stable/reference/generated/numpy.triu.html\n",
        "'''"
      ],
      "metadata": {
        "id": "xSOAWAx3kuP6",
        "colab": {
          "base_uri": "https://localhost:8080/",
          "height": 105
        },
        "outputId": "d4165ef0-0cac-44aa-89aa-a11bf4132085"
      },
      "execution_count": 8,
      "outputs": [
        {
          "output_type": "execute_result",
          "data": {
            "text/plain": [
              "'\\nDefinindo Matrizes - Exercício 4\\nDefina a matrizes triangulares abaixo utilizando o NumPy. Use os métodos np.triu() e np.tril().\\n\\n    | 1  2  3 |           | 1  0  0 |           | 100  101  102  103  104 |\\nA = | 0  5  6 |       B = | 4  5  0 |       C = | 0    106  107  108  109 |\\n    | 0  0  9 |           | 7  8  9 |           | 0     0   112  113  114 |\\n                                                | 0     0   0    118  119 |\\n                                                | 0     0   0     0   124 |\\n\\nPara informações acesse a documentação:\\n\\nhttps://numpy.org/doc/stable/reference/generated/numpy.tril.html\\n\\nhttps://numpy.org/doc/stable/reference/generated/numpy.triu.html\\n'"
            ],
            "application/vnd.google.colaboratory.intrinsic+json": {
              "type": "string"
            }
          },
          "metadata": {},
          "execution_count": 8
        }
      ]
    },
    {
      "cell_type": "code",
      "source": [
        "A = np.triu(np.arange(1,10).reshape(3,3), k=0)\n",
        "B = np.tril(np.arange(1,10).reshape(3,3), k=0)\n",
        "C = np.triu(np.arange(100,125).reshape(5,5))\n",
        "print(A)\n",
        "print()\n",
        "print(B)\n",
        "print()\n",
        "print(C)"
      ],
      "metadata": {
        "colab": {
          "base_uri": "https://localhost:8080/"
        },
        "id": "TFiVaPKMLXkg",
        "outputId": "ea66ace2-c793-4b9b-90d9-1141a96efd88"
      },
      "execution_count": 9,
      "outputs": [
        {
          "output_type": "stream",
          "name": "stdout",
          "text": [
            "[[1 2 3]\n",
            " [0 5 6]\n",
            " [0 0 9]]\n",
            "\n",
            "[[1 0 0]\n",
            " [4 5 0]\n",
            " [7 8 9]]\n",
            "\n",
            "[[100 101 102 103 104]\n",
            " [  0 106 107 108 109]\n",
            " [  0   0 112 113 114]\n",
            " [  0   0   0 118 119]\n",
            " [  0   0   0   0 124]]\n"
          ]
        }
      ]
    },
    {
      "cell_type": "code",
      "source": [
        "'''\n",
        "Definindo Matrizes - Exercício 5\n",
        "Defina as matrizes abaixo utilizando o NumPy. Use os métodos np.diag() e np.array().\n",
        "\n",
        "    | 7  0  0 |           | 3  0  0  0 |           | -5    0    0    0    0 |\n",
        "A = | 0  1  0 |       B = | 0  3  0  0 |       C = | 0    -4    0     0   0 |\n",
        "    | 0  0 -1 |           | 0  0  3  0 |           | 0     0   -3    0    0 |\n",
        "                          | 0  0  0  3 |           | 0     0   0    -2    0 |\n",
        "                                                   | 0     0   0     0   -1 |\n",
        "'''"
      ],
      "metadata": {
        "id": "rTH9BnLULewD",
        "colab": {
          "base_uri": "https://localhost:8080/",
          "height": 87
        },
        "outputId": "30fbcc34-e502-4eec-9316-ecfc120ecf41"
      },
      "execution_count": 10,
      "outputs": [
        {
          "output_type": "execute_result",
          "data": {
            "text/plain": [
              "'\\nDefinindo Matrizes - Exercício 5\\nDefina as matrizes abaixo utilizando o NumPy. Use os métodos np.diag() e np.array().\\n\\n    | 7  0  0 |           | 3  0  0  0 |           | -5    0    0    0    0 |\\nA = | 0  1  0 |       B = | 0  3  0  0 |       C = | 0    -4    0     0   0 |\\n    | 0  0 -1 |           | 0  0  3  0 |           | 0     0   -3    0    0 |\\n                          | 0  0  0  3 |           | 0     0   0    -2    0 |\\n                                                   | 0     0   0     0   -1 |\\n'"
            ],
            "application/vnd.google.colaboratory.intrinsic+json": {
              "type": "string"
            }
          },
          "metadata": {},
          "execution_count": 10
        }
      ]
    },
    {
      "cell_type": "code",
      "source": [
        "A = np.diag([7, 1, -1])\n",
        "B = np.diag([3]*4)\n",
        "C = np.diag(range(-5,0))\n",
        "\n",
        "print(A)\n",
        "print()\n",
        "print(B)\n",
        "print()\n",
        "print(C)"
      ],
      "metadata": {
        "colab": {
          "base_uri": "https://localhost:8080/"
        },
        "id": "HHYLJQ69PBP_",
        "outputId": "a9aeb083-a5d9-46c5-c1b6-6d8a9cfcb4d5"
      },
      "execution_count": 11,
      "outputs": [
        {
          "output_type": "stream",
          "name": "stdout",
          "text": [
            "[[ 7  0  0]\n",
            " [ 0  1  0]\n",
            " [ 0  0 -1]]\n",
            "\n",
            "[[3 0 0 0]\n",
            " [0 3 0 0]\n",
            " [0 0 3 0]\n",
            " [0 0 0 3]]\n",
            "\n",
            "[[-5  0  0  0  0]\n",
            " [ 0 -4  0  0  0]\n",
            " [ 0  0 -3  0  0]\n",
            " [ 0  0  0 -2  0]\n",
            " [ 0  0  0  0 -1]]\n"
          ]
        }
      ]
    },
    {
      "cell_type": "code",
      "source": [
        "'''\n",
        "Operações matriciais - Exercício 1\n",
        "Defina as matrizes A e B dadas a seguir e obtenha A+B.\n",
        "\n",
        "    | 10  11 |       | 1  25 |\n",
        "A = |  5  1  |   B = | 3   4 |\n",
        "    | -2  4  |       | 0 -10 |\n",
        "'''"
      ],
      "metadata": {
        "id": "uP3H_ffkPJLe",
        "colab": {
          "base_uri": "https://localhost:8080/",
          "height": 53
        },
        "outputId": "891315d1-5445-4d42-9518-385db37d3ac3"
      },
      "execution_count": 12,
      "outputs": [
        {
          "output_type": "execute_result",
          "data": {
            "text/plain": [
              "'\\nOperações matriciais - Exercício 1\\nDefina as matrizes A e B dadas a seguir e obtenha A+B.\\n\\n    | 10  11 |       | 1  25 |\\nA = |  5  1  |   B = | 3   4 |\\n    | -2  4  |       | 0 -10 |\\n'"
            ],
            "application/vnd.google.colaboratory.intrinsic+json": {
              "type": "string"
            }
          },
          "metadata": {},
          "execution_count": 12
        }
      ]
    },
    {
      "cell_type": "code",
      "source": [
        "A = np.array([[10, 11], [5, 1], [-2, 4]])\n",
        "B = np.array([[1, 25], [3, 4], [0, -10]])\n",
        "soma = A + B\n",
        "print(soma)"
      ],
      "metadata": {
        "colab": {
          "base_uri": "https://localhost:8080/"
        },
        "id": "tPWUjYdfP6w0",
        "outputId": "5490f21a-f27c-430c-ecb0-ffd344066741"
      },
      "execution_count": 13,
      "outputs": [
        {
          "output_type": "stream",
          "name": "stdout",
          "text": [
            "[[11 36]\n",
            " [ 8  5]\n",
            " [-2 -6]]\n"
          ]
        }
      ]
    },
    {
      "cell_type": "code",
      "source": [
        "'''\n",
        "Operações matriciais - Exercício 2\n",
        "Para as matrizes a seguir,\n",
        "\n",
        "    | 10  11 |       | 1  25 |       | 7  3 |\n",
        "A = |  5  1  |   B = | 3   4 |   C = | 6  1 |\n",
        "    | -2  4  |       | 0 -10 |       | 0  0 |\n",
        "\n",
        "Verifique as propriedades da Adição de Matrizes:\n",
        "\n",
        "A + B = B + A (comutatividade)\n",
        "A + (B + C) = (A + B) + C (associatividade)\n",
        "A + 0 = A, em que 0 detona a matriz nula de ordem mxn\n",
        "'''"
      ],
      "metadata": {
        "id": "KXkL1nAfQY91",
        "colab": {
          "base_uri": "https://localhost:8080/",
          "height": 70
        },
        "outputId": "23ff2765-45eb-4656-d963-f3ae6d45b688"
      },
      "execution_count": 14,
      "outputs": [
        {
          "output_type": "execute_result",
          "data": {
            "text/plain": [
              "'\\nOperações matriciais - Exercício 2\\nPara as matrizes a seguir,\\n\\n    | 10  11 |       | 1  25 |       | 7  3 |\\nA = |  5  1  |   B = | 3   4 |   C = | 6  1 |\\n    | -2  4  |       | 0 -10 |       | 0  0 |\\n\\nVerifique as propriedades da Adição de Matrizes:\\n\\nA + B = B + A (comutatividade)\\nA + (B + C) = (A + B) + C (associatividade)\\nA + 0 = A, em que 0 detona a matriz nula de ordem mxn\\n'"
            ],
            "application/vnd.google.colaboratory.intrinsic+json": {
              "type": "string"
            }
          },
          "metadata": {},
          "execution_count": 14
        }
      ]
    },
    {
      "cell_type": "code",
      "source": [
        "A = np.array([[10, 11], [5, 1], [-2, 4]])\n",
        "B = np.array([[1, 25], [3, 4], [0, -10]])\n",
        "C = np.array([[7, 3], [6, 1], [0, 0]])\n",
        "zero = np.zeros(shape=(3,2))\n",
        "\n",
        "print(A+B==B+A)\n",
        "print((A+(B+C))==((A+B)+C))\n",
        "print(A+zero==A)\n"
      ],
      "metadata": {
        "colab": {
          "base_uri": "https://localhost:8080/"
        },
        "id": "ZaGYlJyxST8h",
        "outputId": "1d8c2d00-5496-4cf9-9130-ce5616f7149a"
      },
      "execution_count": 15,
      "outputs": [
        {
          "output_type": "stream",
          "name": "stdout",
          "text": [
            "[[ True  True]\n",
            " [ True  True]\n",
            " [ True  True]]\n",
            "[[ True  True]\n",
            " [ True  True]\n",
            " [ True  True]]\n",
            "[[ True  True]\n",
            " [ True  True]\n",
            " [ True  True]]\n"
          ]
        }
      ]
    },
    {
      "cell_type": "code",
      "source": [
        "'''\n",
        "Operações matriciais - Exercício 3\n",
        "Sejam as matrizes definidas a seguir, calculemos o que se pede na sequência.\n",
        "\n",
        "\n",
        "    | 1  2  3 |       | -2  0  1 |       | -1 |      \n",
        "A = | 2  1 -1 |   B = | 3   0  1 |   C = |  2 |  D = | 2 - 1 |\n",
        "                                         |  4 |      \n",
        "\n",
        "A+B\n",
        "A.C (multiplicação de matrizes)\n",
        "B.C\n",
        "C.D\n",
        "D.A\n",
        "D.B\n",
        "-A\n",
        "-D\n",
        "2A+3B\n",
        "Este exercício é uma adaptção de BOLDRINI, J. et al. Álgebra Linear. São Paulo: Harbra, 1986.\n",
        "'''"
      ],
      "metadata": {
        "id": "YHwGSQ-a5hef",
        "colab": {
          "base_uri": "https://localhost:8080/",
          "height": 87
        },
        "outputId": "edf3cb82-7fd2-4033-fad1-b5dd3121aef9"
      },
      "execution_count": 16,
      "outputs": [
        {
          "output_type": "execute_result",
          "data": {
            "text/plain": [
              "'\\nOperações matriciais - Exercício 3\\nSejam as matrizes definidas a seguir, calculemos o que se pede na sequência.\\n\\n\\n    | 1  2  3 |       | -2  0  1 |       | -1 |      \\nA = | 2  1 -1 |   B = | 3   0  1 |   C = |  2 |  D = | 2 - 1 |\\n                                         |  4 |      \\n\\nA+B\\nA.C (multiplicação de matrizes)\\nB.C\\nC.D\\nD.A\\nD.B\\n-A\\n-D\\n2A+3B\\nEste exercício é uma adaptção de BOLDRINI, J. et al. Álgebra Linear. São Paulo: Harbra, 1986.\\n'"
            ],
            "application/vnd.google.colaboratory.intrinsic+json": {
              "type": "string"
            }
          },
          "metadata": {},
          "execution_count": 16
        }
      ]
    },
    {
      "cell_type": "code",
      "source": [
        "A=np.array([[1,2,3],[2,1,-1]])\n",
        "B=np.array([[-2,0,1],[3,0,1]])\n",
        "C=np.array([[-1],[2],[4]])\n",
        "D=np.array([[2,-1]])\n",
        "#1\n",
        "print('A+B:',A+B)\n",
        "print()\n",
        "#2\n",
        "print('A.C',A.dot(C))\n",
        "print()\n",
        "#3\n",
        "print('B.C',B.dot(C))\n",
        "print()\n",
        "#4\n",
        "print('C.D',C.dot(D))\n",
        "print()\n",
        "#5\n",
        "print('D.A',D.dot(A))\n",
        "print()\n",
        "#6\n",
        "print('D.B',D.dot(B))\n",
        "print()\n",
        "#7\n",
        "print('-A',(-1)*(A))\n",
        "print()\n",
        "#8\n",
        "print('-D',(-1)*D)\n",
        "print()\n",
        "#9\n",
        "print('2A+3B:',2*A+3*B)"
      ],
      "metadata": {
        "colab": {
          "base_uri": "https://localhost:8080/"
        },
        "id": "fxoLNffN58wP",
        "outputId": "57f4dcac-3843-4cce-c2d2-4f046a67b50b"
      },
      "execution_count": 17,
      "outputs": [
        {
          "output_type": "stream",
          "name": "stdout",
          "text": [
            "A+B: [[-1  2  4]\n",
            " [ 5  1  0]]\n",
            "\n",
            "A.C [[15]\n",
            " [-4]]\n",
            "\n",
            "B.C [[6]\n",
            " [1]]\n",
            "\n",
            "C.D [[-2  1]\n",
            " [ 4 -2]\n",
            " [ 8 -4]]\n",
            "\n",
            "D.A [[0 3 7]]\n",
            "\n",
            "D.B [[-7  0  1]]\n",
            "\n",
            "-A [[-1 -2 -3]\n",
            " [-2 -1  1]]\n",
            "\n",
            "-D [[-2  1]]\n",
            "\n",
            "2A+3B: [[-4  4  9]\n",
            " [13  2  1]]\n"
          ]
        }
      ]
    },
    {
      "cell_type": "code",
      "source": [
        "'''\n",
        "Operações matriciais - Exercício 4\n",
        "Sejam as matrizes A,B e C. Mostre que:\n",
        "    AB = AC\n",
        "\n",
        "    | 1  -3  2 |       | 1  4  1  0 |       | 2  1  -1  -2 |\n",
        "A = | 2   1 -3 |   B = | 2  1  1  1 |   C = | 3 -2  -1  -1 |\n",
        "    | 4  -3 -1 |       | 1 -2  1  2 |       | 2  -5  -1  0 |\n",
        "\n",
        "'''"
      ],
      "metadata": {
        "id": "4m3BwPBWSieF",
        "colab": {
          "base_uri": "https://localhost:8080/",
          "height": 53
        },
        "outputId": "628d64f8-6662-4172-8c0c-a5129d1e7e76"
      },
      "execution_count": 18,
      "outputs": [
        {
          "output_type": "execute_result",
          "data": {
            "text/plain": [
              "'\\nOperações matriciais - Exercício 4\\nSejam as matrizes A,B e C. Mostre que:\\n    AB = AC\\n\\n    | 1  -3  2 |       | 1  4  1  0 |       | 2  1  -1  -2 |\\nA = | 2   1 -3 |   B = | 2  1  1  1 |   C = | 3 -2  -1  -1 |\\n    | 4  -3 -1 |       | 1 -2  1  2 |       | 2  -5  -1  0 |\\n\\n'"
            ],
            "application/vnd.google.colaboratory.intrinsic+json": {
              "type": "string"
            }
          },
          "metadata": {},
          "execution_count": 18
        }
      ]
    },
    {
      "cell_type": "code",
      "source": [
        "A = np.array([[1, -3, 2], [2, 1, -3], [4, -3, -1]])\n",
        "B = np.array([[1, 4, 1, 0], [2, 1, 1, 1], [1, -2, 1, 2]])\n",
        "C = np.array([[2, 1, -1, -2], [3, -1, -1, -1], [2, -5, -1, 0]])\n",
        "\n",
        "print(A.dot(B)==A.dot(C))"
      ],
      "metadata": {
        "colab": {
          "base_uri": "https://localhost:8080/"
        },
        "id": "-2N8mo1E4XRr",
        "outputId": "ffa0d908-ba48-4317-cda3-ba7fe325ff1d"
      },
      "execution_count": 19,
      "outputs": [
        {
          "output_type": "stream",
          "name": "stdout",
          "text": [
            "[[ True False  True  True]\n",
            " [ True False  True  True]\n",
            " [ True False  True  True]]\n"
          ]
        }
      ]
    },
    {
      "cell_type": "code",
      "source": [
        "'''\n",
        "Matriz Transposta - Exercício 1\n",
        "Podemos obter a transposta de uma matriz permutando as linhas pelas colunas \n",
        "de mesmo índice(ou seja, o que é linha se transforma em coluna e o que é coluna se transforma em linha). \n",
        "Obtenha a Matriz transposta das matrizes a seguir:\n",
        "    | 1  -3  2 |         | 1  0  4 |\n",
        "A = | 2  1  -3 |     B = |-7  5  5 |  \n",
        "    | 4  -3 -1 |         |25  9 11 |\n",
        "\n",
        "Exemplo: Seja a matriz A definida a seguir, podemos obter sua transposta da seguinte forma:\n",
        "    | 1  -2 |        | 1  7  20 |\n",
        "A = | 4   4 |   AT = |-2  4  10 |\n",
        "    |20  10 |        \n",
        "'''"
      ],
      "metadata": {
        "id": "0x1gNujD439T",
        "colab": {
          "base_uri": "https://localhost:8080/",
          "height": 87
        },
        "outputId": "0fd2b917-be49-45d3-eced-4b20b547c210"
      },
      "execution_count": 20,
      "outputs": [
        {
          "output_type": "execute_result",
          "data": {
            "text/plain": [
              "'\\nMatriz Transposta - Exercício 1\\nPodemos obter a transposta de uma matriz permutando as linhas pelas colunas \\nde mesmo índice(ou seja, o que é linha se transforma em coluna e o que é coluna se transforma em linha). \\nObtenha a Matriz transposta das matrizes a seguir:\\n    | 1  -3  2 |         | 1  0  4 |\\nA = | 2  1  -3 |     B = |-7  5  5 |  \\n    | 4  -3 -1 |         |25  9 11 |\\n\\nExemplo: Seja a matriz A definida a seguir, podemos obter sua transposta da seguinte forma:\\n    | 1  -2 |        | 1  7  20 |\\nA = | 4   4 |   AT = |-2  4  10 |\\n    |20  10 |        \\n'"
            ],
            "application/vnd.google.colaboratory.intrinsic+json": {
              "type": "string"
            }
          },
          "metadata": {},
          "execution_count": 20
        }
      ]
    },
    {
      "cell_type": "code",
      "source": [
        "A = np.array([[1, -3, 2], [2, 1, -3], [4, -3, -1]])\n",
        "B = np.array([[1, 0, 4], [-7, 5, 5], [25, 9, 11]])\n",
        "\n",
        "print(A.T)\n",
        "print()\n",
        "print(B.T)\n"
      ],
      "metadata": {
        "colab": {
          "base_uri": "https://localhost:8080/"
        },
        "id": "3iyl1g-w_BZw",
        "outputId": "36967dd7-6374-4026-cacb-65fae57e2dc2"
      },
      "execution_count": 21,
      "outputs": [
        {
          "output_type": "stream",
          "name": "stdout",
          "text": [
            "[[ 1  2  4]\n",
            " [-3  1 -3]\n",
            " [ 2 -3 -1]]\n",
            "\n",
            "[[ 1 -7 25]\n",
            " [ 0  5  9]\n",
            " [ 4  5 11]]\n"
          ]
        }
      ]
    },
    {
      "cell_type": "code",
      "source": [
        "'''\n",
        "Determinante - Exercício 1\n",
        "Obtenha o determinante das matrizes a seguir. Utilize o método np.linalg.det().\n",
        "             | 1  2 |       | -3  -8 |       | 1  0 |\n",
        "A = [5]  B = | 3  4 |   C = | -5  -2 |   D = | 0  1 |\n",
        "'''                         "
      ],
      "metadata": {
        "id": "McC1VMbW_82D",
        "colab": {
          "base_uri": "https://localhost:8080/",
          "height": 53
        },
        "outputId": "08799816-2911-49fd-c599-b1b40800a5c3"
      },
      "execution_count": 22,
      "outputs": [
        {
          "output_type": "execute_result",
          "data": {
            "text/plain": [
              "'\\nDeterminante - Exercício 1\\nObtenha o determinante das matrizes a seguir. Utilize o método np.linalg.det().\\n             | 1  2 |       | -3  -8 |       | 1  0 |\\nA = [5]  B = | 3  4 |   C = | -5  -2 |   D = | 0  1 |\\n'"
            ],
            "application/vnd.google.colaboratory.intrinsic+json": {
              "type": "string"
            }
          },
          "metadata": {},
          "execution_count": 22
        }
      ]
    },
    {
      "cell_type": "code",
      "source": [
        "A = np.array([[5]])\n",
        "B = np.array([[1, 2], [3, 4]])\n",
        "C = np.array([[-3, -8], [-5, -2]])\n",
        "D = np.array([[1, 0], [0, 1]])\n",
        "\n",
        "print(np.linalg.det(A).round())\n",
        "print()\n",
        "print(np.linalg.det(B).round())\n",
        "print()\n",
        "print(np.linalg.det(C).round())\n",
        "print()\n",
        "print(np.linalg.det(D).round())"
      ],
      "metadata": {
        "colab": {
          "base_uri": "https://localhost:8080/"
        },
        "id": "AwiC104VBZ8Q",
        "outputId": "ec12ec61-ed78-45b0-a024-8709ddbb87c9"
      },
      "execution_count": 23,
      "outputs": [
        {
          "output_type": "stream",
          "name": "stdout",
          "text": [
            "5.0\n",
            "\n",
            "-2.0\n",
            "\n",
            "-34.0\n",
            "\n",
            "1.0\n"
          ]
        }
      ]
    },
    {
      "cell_type": "code",
      "source": [
        "'''\n",
        "Obtenha o determinante das matrizes a seguir. Utilize o método np.linalg.det().\n",
        "\n",
        "\n",
        "    | 3  1  4 |         | 1  0  0 |        | 5  0  0 |       |3  0  0  0 |       | 5  0  13  12 |\n",
        "A = |10  7  5 |     B = | 0  1  0 |    C = |10  0  0 |   D = |0  7  0  0 |   E = | 1  -1 25   7 |\n",
        "    | 1  4  4 |         | 0  0  1 |        | 0  0  2 |       |0  0  11 0 |       | 6  2   1  20 |\n",
        "                                                             |0  0  0  2 |       | 11 4   0  -9 |\n",
        "'''                                                          "
      ],
      "metadata": {
        "id": "CD_IxLKIBnZZ",
        "colab": {
          "base_uri": "https://localhost:8080/",
          "height": 87
        },
        "outputId": "b2585fe9-86da-400d-bfdb-57c5bbf1efda"
      },
      "execution_count": 24,
      "outputs": [
        {
          "output_type": "execute_result",
          "data": {
            "text/plain": [
              "'\\nObtenha o determinante das matrizes a seguir. Utilize o método np.linalg.det().\\n\\n\\n    | 3  1  4 |         | 1  0  0 |        | 5  0  0 |       |3  0  0  0 |       | 5  0  13  12 |\\nA = |10  7  5 |     B = | 0  1  0 |    C = |10  0  0 |   D = |0  7  0  0 |   E = | 1  -1 25   7 |\\n    | 1  4  4 |         | 0  0  1 |        | 0  0  2 |       |0  0  11 0 |       | 6  2   1  20 |\\n                                                             |0  0  0  2 |       | 11 4   0  -9 |\\n'"
            ],
            "application/vnd.google.colaboratory.intrinsic+json": {
              "type": "string"
            }
          },
          "metadata": {},
          "execution_count": 24
        }
      ]
    },
    {
      "cell_type": "code",
      "source": [
        "A = np.array([[3, 1, 4], [ 10, 7, 5], [1, 4, 4]])\n",
        "B = np.eye(3)\n",
        "C = np.diag([5, 10, 2])\n",
        "D  = np.diag([3, 7, 11, 2])\n",
        "E = np.array([[5, 0, 13, 12], [ 1, -1, 25, 7], [6, 2, 1, 20], [11, 4, 0, -9]])\n",
        "\n",
        "print(np.linalg.det(A).round())\n",
        "print()\n",
        "print(np.linalg.det(B).round())\n",
        "print()\n",
        "print(np.linalg.det(C).round())\n",
        "print()\n",
        "print(np.linalg.det(D).round())"
      ],
      "metadata": {
        "colab": {
          "base_uri": "https://localhost:8080/"
        },
        "id": "IM_GcnYiIgWj",
        "outputId": "9236c7f4-75df-4cd4-c561-1d7e82f2605e"
      },
      "execution_count": 25,
      "outputs": [
        {
          "output_type": "stream",
          "name": "stdout",
          "text": [
            "121.0\n",
            "\n",
            "1.0\n",
            "\n",
            "100.0\n",
            "\n",
            "462.0\n"
          ]
        }
      ]
    },
    {
      "cell_type": "code",
      "source": [
        "'''\n",
        "Determinante - Exercício 3\n",
        "Dadas as matrizes A e B, calcule:\n",
        "\n",
        "detA+detB\n",
        "\n",
        "det(A+B)\n",
        "\n",
        "    |1  2 |      | 3 -1 |\n",
        "A = |1  0 |  B = | 0  1 |\n",
        "\n",
        "Este exercício é uma adaptção de BOLDRINI, J. et al. Álgebra Linear. São Paulo: Harbra, 1986.\n",
        "'''"
      ],
      "metadata": {
        "id": "9wYYgaWkL6z1",
        "colab": {
          "base_uri": "https://localhost:8080/",
          "height": 53
        },
        "outputId": "3d2af56b-fe32-4878-b693-ed8bdb3e22a3"
      },
      "execution_count": 26,
      "outputs": [
        {
          "output_type": "execute_result",
          "data": {
            "text/plain": [
              "'\\nDeterminante - Exercício 3\\nDadas as matrizes A e B, calcule:\\n\\ndetA+detB\\n\\ndet(A+B)\\n\\n    |1  2 |      | 3 -1 |\\nA = |1  0 |  B = | 0  1 |\\n\\nEste exercício é uma adaptção de BOLDRINI, J. et al. Álgebra Linear. São Paulo: Harbra, 1986.\\n'"
            ],
            "application/vnd.google.colaboratory.intrinsic+json": {
              "type": "string"
            }
          },
          "metadata": {},
          "execution_count": 26
        }
      ]
    },
    {
      "cell_type": "code",
      "source": [
        "A = np.array([[1, 2], [1, 0]])\n",
        "B = np.array([[3, -1], [0, 1]])\n",
        "\n",
        "det_A = np.linalg.det(A).round()\n",
        "det_B = np.linalg.det(B).round()\n",
        "print(det_A+det_B)"
      ],
      "metadata": {
        "colab": {
          "base_uri": "https://localhost:8080/"
        },
        "id": "sL6GiGuXN4Kg",
        "outputId": "844aee64-da35-45dc-9f2f-56a9a7ae7db5"
      },
      "execution_count": 27,
      "outputs": [
        {
          "output_type": "stream",
          "name": "stdout",
          "text": [
            "1.0\n"
          ]
        }
      ]
    },
    {
      "cell_type": "code",
      "source": [
        "'''\n",
        "Matriz Inversa - Exercício 1\n",
        "Encontre a inversa das matrizes abaixo. Use o método np.linalg.inv().\n",
        "\n",
        "    |1  2 |      | -1  3 |\n",
        "A = |3  4 |  B = |  5  4 |\n",
        "'''"
      ],
      "metadata": {
        "id": "tAuzw2XqV2XT",
        "colab": {
          "base_uri": "https://localhost:8080/",
          "height": 53
        },
        "outputId": "75ab79ca-7d5b-463b-8ea4-416d0dfbc5f3"
      },
      "execution_count": 28,
      "outputs": [
        {
          "output_type": "execute_result",
          "data": {
            "text/plain": [
              "'\\nMatriz Inversa - Exercício 1\\nEncontre a inversa das matrizes abaixo. Use o método np.linalg.inv().\\n\\n    |1  2 |      | -1  3 |\\nA = |3  4 |  B = |  5  4 |\\n'"
            ],
            "application/vnd.google.colaboratory.intrinsic+json": {
              "type": "string"
            }
          },
          "metadata": {},
          "execution_count": 28
        }
      ]
    },
    {
      "cell_type": "code",
      "source": [
        "A = np.array([[1, 2], [3, 4]])\n",
        "B= np.array([[-1, 3], [5, 4]])\n",
        "\n",
        "A_inversa = np.linalg.inv(A)\n",
        "B_inversa = np.linalg.inv(B) \n",
        "\n",
        "print(A_inversa)\n",
        "print(B_inversa)"
      ],
      "metadata": {
        "colab": {
          "base_uri": "https://localhost:8080/"
        },
        "id": "XDagtXjHWD3G",
        "outputId": "2d5f7227-14ef-46cd-95fa-4b1c34d7ea5a"
      },
      "execution_count": 29,
      "outputs": [
        {
          "output_type": "stream",
          "name": "stdout",
          "text": [
            "[[-2.   1. ]\n",
            " [ 1.5 -0.5]]\n",
            "[[-0.21052632  0.15789474]\n",
            " [ 0.26315789  0.05263158]]\n"
          ]
        }
      ]
    },
    {
      "cell_type": "code",
      "source": [
        "'''\n",
        "Matriz Inversa - Exercício 2\n",
        "Encontre a inversa da matriz A:\n",
        "    | 4  -1  2  -2 |\n",
        "A = | 3  -1  0   0 |\n",
        "    | 2   3  1   0 |\n",
        "    | 0   7  1   1 |\n",
        "\n",
        "Este exercício é uma adaptção de BOLDRINI, J. et al. Álgebra Linear. São Paulo: Harbra, 1986.\n",
        "'''"
      ],
      "metadata": {
        "id": "LjkUVBtJWKx2",
        "colab": {
          "base_uri": "https://localhost:8080/",
          "height": 53
        },
        "outputId": "f8f1faa4-f0a9-47ab-be66-ae59f0a2c31d"
      },
      "execution_count": 30,
      "outputs": [
        {
          "output_type": "execute_result",
          "data": {
            "text/plain": [
              "'\\nMatriz Inversa - Exercício 2\\nEncontre a inversa da matriz A:\\n    | 4  -1  2  -2 |\\nA = | 3  -1  0   0 |\\n    | 2   3  1   0 |\\n    | 0   7  1   1 |\\n\\nEste exercício é uma adaptção de BOLDRINI, J. et al. Álgebra Linear. São Paulo: Harbra, 1986.\\n'"
            ],
            "application/vnd.google.colaboratory.intrinsic+json": {
              "type": "string"
            }
          },
          "metadata": {},
          "execution_count": 30
        }
      ]
    },
    {
      "cell_type": "code",
      "source": [
        "A = np.array([[4, -1, 2, -2], [3, -1, 0, 0 ], [2, 3, 1, 0], [0, 7, 1, 1]])\n",
        "A_inverso = np.linalg.inv(A)\n",
        "print(A_inverso)"
      ],
      "metadata": {
        "colab": {
          "base_uri": "https://localhost:8080/"
        },
        "id": "-oBcBnuAXVxB",
        "outputId": "6b689c52-e43e-469b-9110-ccac4719c16c"
      },
      "execution_count": 31,
      "outputs": [
        {
          "output_type": "stream",
          "name": "stdout",
          "text": [
            "[[ -1.  -1.   4.  -2.]\n",
            " [ -3.  -4.  12.  -6.]\n",
            " [ 11.  14. -43.  22.]\n",
            " [ 10.  14. -41.  21.]]\n"
          ]
        }
      ]
    },
    {
      "cell_type": "code",
      "source": [
        "'''\n",
        "Matriz Inversa - Exercício 3\n",
        "Encontre a inversa da matriz A:\n",
        "\n",
        "A = diagonal principal = 7, 8, 11, 2, 4, 5, 1, 3\n",
        "'''"
      ],
      "metadata": {
        "id": "IygAvJhiXdRh",
        "colab": {
          "base_uri": "https://localhost:8080/",
          "height": 35
        },
        "outputId": "42d049b7-dd46-4631-be91-289eae06f82b"
      },
      "execution_count": 32,
      "outputs": [
        {
          "output_type": "execute_result",
          "data": {
            "text/plain": [
              "'\\nMatriz Inversa - Exercício 3\\nEncontre a inversa da matriz A:\\n\\nA = diagonal principal = 7, 8, 11, 2, 4, 5, 1, 3\\n'"
            ],
            "application/vnd.google.colaboratory.intrinsic+json": {
              "type": "string"
            }
          },
          "metadata": {},
          "execution_count": 32
        }
      ]
    },
    {
      "cell_type": "code",
      "source": [
        "A = np.diag([7, 8, 11, 2, 4, 5, 1, 3])\n",
        "A_inverso = np.linalg.inv(A)\n",
        "print(A_inverso)"
      ],
      "metadata": {
        "colab": {
          "base_uri": "https://localhost:8080/"
        },
        "id": "hK8_pRUHYM6C",
        "outputId": "9b1879ab-ffe5-46a0-b95c-237df2173198"
      },
      "execution_count": 33,
      "outputs": [
        {
          "output_type": "stream",
          "name": "stdout",
          "text": [
            "[[0.14285714 0.         0.         0.         0.         0.\n",
            "  0.         0.        ]\n",
            " [0.         0.125      0.         0.         0.         0.\n",
            "  0.         0.        ]\n",
            " [0.         0.         0.09090909 0.         0.         0.\n",
            "  0.         0.        ]\n",
            " [0.         0.         0.         0.5        0.         0.\n",
            "  0.         0.        ]\n",
            " [0.         0.         0.         0.         0.25       0.\n",
            "  0.         0.        ]\n",
            " [0.         0.         0.         0.         0.         0.2\n",
            "  0.         0.        ]\n",
            " [0.         0.         0.         0.         0.         0.\n",
            "  1.         0.        ]\n",
            " [0.         0.         0.         0.         0.         0.\n",
            "  0.         0.33333333]]\n"
          ]
        }
      ]
    },
    {
      "cell_type": "code",
      "source": [
        "'''\n",
        "Sistemas Lineares - Exercício 1\n",
        "Resolva os sistemas lineares a seguir. Utilize o método np.linalg.solve().\n",
        "\n",
        "A = | 2x + 3x = 6   B= | 3x + y = 9 \n",
        "    |  x -  y = 8      | x + 2y = 8\n",
        "'''"
      ],
      "metadata": {
        "id": "0ep-LDIzYTC6"
      },
      "execution_count": 33,
      "outputs": []
    },
    {
      "cell_type": "code",
      "source": [
        "#vetor A\n",
        "A = np.array([[2, 3], [1, -1]])\n",
        "B = np.array([[6], [8]])\n",
        "solucao = np.linalg.solve(A,B)\n",
        "print(solucao)"
      ],
      "metadata": {
        "colab": {
          "base_uri": "https://localhost:8080/"
        },
        "id": "jmsVuAh9LzwO",
        "outputId": "96730e71-baa6-4c4d-96fb-bd2584dbda20"
      },
      "execution_count": 34,
      "outputs": [
        {
          "output_type": "stream",
          "name": "stdout",
          "text": [
            "[[ 6.]\n",
            " [-2.]]\n"
          ]
        }
      ]
    },
    {
      "cell_type": "code",
      "source": [
        "#vetor B\n",
        "A = np.array([[3,1], [1, 2]])\n",
        "B = np.array([[9], [8]])\n",
        "solucao = np.linalg.solve(A,B)\n",
        "print(solucao)"
      ],
      "metadata": {
        "colab": {
          "base_uri": "https://localhost:8080/"
        },
        "id": "Y8BGip_jPOUP",
        "outputId": "6f325eab-6003-4230-9853-c1c93fc917f5"
      },
      "execution_count": 35,
      "outputs": [
        {
          "output_type": "stream",
          "name": "stdout",
          "text": [
            "[[2.]\n",
            " [3.]]\n"
          ]
        }
      ]
    },
    {
      "cell_type": "code",
      "source": [
        "'''\n",
        "Sistemas Lineares - Exercício 2\n",
        "Resolva o sistema linear abaixo.\n",
        "\n",
        "|x + 3z = -8\n",
        "|2x - 4 = -4\n",
        "|3x - 2y - 5z = 26\n",
        "\n",
        "Adaptação de : STEINBRUCH, A.; WINTERLE, P. Álgebra Linear. São Paulo: McGraw-Hill, 1987.\n",
        "\n",
        "\n",
        "'''"
      ],
      "metadata": {
        "id": "KyolWT69MzsE"
      },
      "execution_count": null,
      "outputs": []
    },
    {
      "cell_type": "code",
      "source": [
        "A = np.array([[1, 0, 3], [2, -4, 0], [3, -2, -5]])\n",
        "B = np.array([[-8], [-4],[26]])\n",
        "solucao = np.linalg.solve(A,B)\n",
        "print(solucao)"
      ],
      "metadata": {
        "colab": {
          "base_uri": "https://localhost:8080/"
        },
        "id": "Ic2TMUNsP4_Y",
        "outputId": "1fa0bed3-cdba-4265-ad1d-42871b980953"
      },
      "execution_count": 40,
      "outputs": [
        {
          "output_type": "stream",
          "name": "stdout",
          "text": [
            "[[ 4.]\n",
            " [ 3.]\n",
            " [-4.]]\n"
          ]
        }
      ]
    },
    {
      "cell_type": "code",
      "source": [
        "'''\n",
        "Sistemas Lineares - Exercício 3\n",
        "Resolva o sistema linear abaixo. Utilize o método np.linalg.solve().\n",
        "\n",
        "|x + y + z + w = 0\n",
        "|x + y + z - w = 4\n",
        "|x + y - z + w = -4\n",
        "|x - y + z + w = 2\n",
        "\n",
        "\n",
        "Este exercício é uma adaptção de BOLDRINI, J. et al. Álgebra Linear. São Paulo: Harbra, 1986.\n",
        "'''"
      ],
      "metadata": {
        "id": "TClf7lr-QIT9"
      },
      "execution_count": null,
      "outputs": []
    },
    {
      "cell_type": "code",
      "source": [
        "A = np.array([[1, 1, 1, 1], [1, 1, 1, -1], [1, 1, -1, 1], [1, -1, 1, 1]])\n",
        "B = np.array([[0], [4], [-4], [2]])\n",
        "solucao = np.linalg.solve(A,B)\n",
        "print(solucao)"
      ],
      "metadata": {
        "colab": {
          "base_uri": "https://localhost:8080/"
        },
        "id": "1ZN-GKRzROgF",
        "outputId": "a2b0dbd7-5ff8-479d-fa08-77497431265a"
      },
      "execution_count": 42,
      "outputs": [
        {
          "output_type": "stream",
          "name": "stdout",
          "text": [
            "[[ 1.]\n",
            " [-1.]\n",
            " [ 2.]\n",
            " [-2.]]\n"
          ]
        }
      ]
    },
    {
      "cell_type": "code",
      "source": [
        "'''\n",
        "Sistemas Lineares - Exercício 4\n",
        "Resolva o sistema linear abaixo.\n",
        "\n",
        "|3x + 2y = 2\n",
        "|x - y = 4\n",
        "|5y + z = -1\n",
        "'''"
      ],
      "metadata": {
        "id": "fKF4pfh2ReoN"
      },
      "execution_count": null,
      "outputs": []
    },
    {
      "cell_type": "code",
      "source": [
        "A = np.array([[3, 2, 0], [1, -1, 0], [0, 5, 1]])\n",
        "B = np.array([[2], [4], [-1]])\n",
        "solucao = np.linalg.solve(A,B)\n",
        "print(solucao)"
      ],
      "metadata": {
        "colab": {
          "base_uri": "https://localhost:8080/"
        },
        "id": "zWucYwTtSkDV",
        "outputId": "b6cb7556-ed54-45e8-ef2d-ac45a6e9d00c"
      },
      "execution_count": 48,
      "outputs": [
        {
          "output_type": "stream",
          "name": "stdout",
          "text": [
            "[[ 2.]\n",
            " [-2.]\n",
            " [ 9.]]\n"
          ]
        }
      ]
    },
    {
      "cell_type": "code",
      "source": [
        "'''\n",
        "Traço de uma Matriz - Exercício 1\n",
        "Obtenha o traço das matrizes abaixo:\n",
        "\n",
        "    | 1  2 |         | 10  0  11 |        | 4   2  11  14 |\n",
        "A = | 3  4 |     B = | -7  2   5 |    C = | 0  -9   1   3 |\n",
        "                     | 45  78  4 |        |-3   4   5   8 |\n",
        "                                          | 0   1   1   2 |\n",
        "\n",
        "Lembrete: o traço de uma matriz é definido como a soma dos elementos da sua diagonal principal. Desta forma, \n",
        "facilmente podemos dizer que o traço da matriz A é 5, da matriz B 16 e da matriz C 2. Use o método matrix.trace().\n",
        "'''"
      ],
      "metadata": {
        "id": "iVt0JyhgS2op"
      },
      "execution_count": null,
      "outputs": []
    },
    {
      "cell_type": "code",
      "source": [
        "A = np.array([[1, 2], [3, 4]])\n",
        "B = np.array([[10, 0, 11], [-7, 2, 5], [45, 78, 4]])\n",
        "C = np.array([[4, 2, 11, 14], [0, -9, 1, 3], [-3, 4, 5, 8], [0, 1, 1, 2]])\n",
        "\n",
        "print(np.trace(A))\n",
        "print(np.trace(B))\n",
        "print(np.trace(C))"
      ],
      "metadata": {
        "colab": {
          "base_uri": "https://localhost:8080/"
        },
        "id": "tc3m_kiYVRSA",
        "outputId": "f2a6bdb2-061d-44c6-b0c2-3c4df2a26907"
      },
      "execution_count": 51,
      "outputs": [
        {
          "output_type": "stream",
          "name": "stdout",
          "text": [
            "5\n",
            "16\n",
            "2\n"
          ]
        }
      ]
    },
    {
      "cell_type": "code",
      "source": [
        "'''\n",
        "Posto (rank) - Exercício 1\n",
        "Obtenha o posto (ou rank) da matriz K. Use o método np.linalg.matrix_rank().\n",
        "\n",
        "    | 2  -1  3 |\n",
        "K = | 1   4  2 |\n",
        "    | 1  -5  1 |\n",
        "    | 4  16  8 |\n",
        "Para mais informações: https://pt.wikipedia.org/wiki/Posto_matricial.\n",
        "\n",
        "Este exercício é uma adaptção de BOLDRINI, J. et al. Álgebra Linear. São Paulo: Harbra, 1986.\n",
        "'''"
      ],
      "metadata": {
        "id": "J-UTSAcwVvbD"
      },
      "execution_count": null,
      "outputs": []
    },
    {
      "cell_type": "code",
      "source": [
        "K = np.array([[2, -1, 3], [1, 4, 2], [1, -5, 1], [4, 16, 8]])\n",
        "rank = np.linalg.matrix_rank(K)\n",
        "print(rank)"
      ],
      "metadata": {
        "colab": {
          "base_uri": "https://localhost:8080/"
        },
        "id": "kzLo8WNAXTvH",
        "outputId": "e48566bc-bf9a-4bbf-fe12-ee54e7d33956"
      },
      "execution_count": 52,
      "outputs": [
        {
          "output_type": "stream",
          "name": "stdout",
          "text": [
            "2\n"
          ]
        }
      ]
    },
    {
      "cell_type": "code",
      "source": [
        "'''\n",
        "Autovalor/Autovetor - Exercício 1\n",
        "Calcule os autovalores associadoas a matriz A. Utilize o método np.linalg.eigvals().\n",
        "\n",
        "\n",
        "A = | 1  3 |\n",
        "    |-1  5 |\n",
        "\n",
        "Adaptado de : STEINBRUCH, A.; WINTERLE, P. Álgebra Linear. São Paulo: McGraw-Hill, 1987.\n",
        "'''"
      ],
      "metadata": {
        "id": "u19HQDiqXiSs"
      },
      "execution_count": null,
      "outputs": []
    },
    {
      "cell_type": "code",
      "source": [
        "A = np.array([[1, 3], [-1, 5]])\n",
        "solucao = np.linalg.eigvals(A)\n",
        "print(solucao)"
      ],
      "metadata": {
        "colab": {
          "base_uri": "https://localhost:8080/"
        },
        "id": "hImBnuJuZF4F",
        "outputId": "1bd98dd6-bad9-40d7-d1b7-8c1e0ebd27dd"
      },
      "execution_count": 54,
      "outputs": [
        {
          "output_type": "stream",
          "name": "stdout",
          "text": [
            "[2. 4.]\n"
          ]
        }
      ]
    },
    {
      "cell_type": "code",
      "source": [],
      "metadata": {
        "id": "y9hRBWIlZNZD"
      },
      "execution_count": null,
      "outputs": []
    }
  ]
}